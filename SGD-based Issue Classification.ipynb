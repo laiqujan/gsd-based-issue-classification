{
 "cells": [
  {
   "cell_type": "code",
   "execution_count": null,
   "id": "915bc6b5",
   "metadata": {},
   "outputs": [],
   "source": [
    "#required packages\n",
    "#pip install sklearn\n",
    "#pip install gensim"
   ]
  },
  {
   "cell_type": "code",
   "execution_count": 2,
   "id": "c1496067",
   "metadata": {},
   "outputs": [],
   "source": [
    "#Imports required packages\n",
    "import pandas as pd\n",
    "import numpy as np\n",
    "import sklearn\n",
    "from sklearn.feature_extraction.text import TfidfVectorizer\n",
    "from sklearn.feature_extraction.text import CountVectorizer\n",
    "from sklearn.feature_extraction.text import TfidfTransformer\n",
    "from sklearn.metrics import classification_report\n",
    "from sklearn.metrics import accuracy_score\n",
    "from sklearn.compose import ColumnTransformer\n",
    "from sklearn.pipeline import Pipeline\n",
    "from sklearn.metrics import classification_report, confusion_matrix\n",
    "import gensim\n",
    "from sklearn.linear_model import LogisticRegression\n",
    "from sklearn.metrics import precision_score, recall_score,f1_score\n",
    "from sklearn.metrics import roc_curve,auc,roc_auc_score\n",
    "import time\n",
    "from sklearn.model_selection import GridSearchCV\n",
    "from sklearn.linear_model import SGDClassifier"
   ]
  },
  {
   "cell_type": "code",
   "execution_count": null,
   "id": "530e71db",
   "metadata": {},
   "outputs": [],
   "source": [
    "#Data links\n",
    "#Training Data: https://tickettagger.blob.core.windows.net/datasets/nlbse23-issue-classification-train.csv.tar.gz\n",
    "#Testing Data: https://tickettagger.blob.core.windows.net/datasets/nlbse23-issue-classification-test.csv.tar.gz\n",
    "\n",
    "#Please download the required training and testing data and ensure they are present and in the same directory as the code"
   ]
  },
  {
   "cell_type": "code",
   "execution_count": 3,
   "id": "8a3e8d3e",
   "metadata": {},
   "outputs": [],
   "source": [
    "# load training data\n",
    "traindf = pd.read_csv('nlbse23-issue-classification-train.csv')\n",
    "\n",
    "# load testing data\n",
    "testdf = pd.read_csv('nlbse23-issue-classification-test.csv') "
   ]
  },
  {
   "cell_type": "code",
   "execution_count": 4,
   "id": "b3a56003",
   "metadata": {},
   "outputs": [
    {
     "data": {
      "text/plain": [
       "((1275881, 5), (142320, 5))"
      ]
     },
     "execution_count": 4,
     "metadata": {},
     "output_type": "execute_result"
    }
   ],
   "source": [
    "# checking the shape of the data\n",
    "traindf.shape,testdf.shape"
   ]
  },
  {
   "cell_type": "code",
   "execution_count": 5,
   "id": "44491ee1",
   "metadata": {},
   "outputs": [],
   "source": [
    "#merge title and body of training data\n",
    "traindf['Summary'] = traindf[\"title\"]+\" \"+traindf[\"body\"]\n",
    "# removing null\n",
    "traindf = traindf[pd.notnull(traindf['Summary'])]\n",
    "\n",
    "#merge title and body of testing data\n",
    "testdf['Summary'] = testdf[\"title\"]+\" \"+testdf[\"body\"]\n",
    "\n",
    "# removing null\n",
    "testdf = testdf[pd.notnull(testdf['Summary'])]"
   ]
  },
  {
   "cell_type": "code",
   "execution_count": 6,
   "id": "9f8078b2",
   "metadata": {},
   "outputs": [],
   "source": [
    "# defining a function to clean data\n",
    "def preprocess(text):  \n",
    "    text = str(text)\n",
    "    \n",
    "    # lowercase\n",
    "    text = text.lower()\n",
    "    \n",
    "    # remove non_alphanum\n",
    "    text = gensim.parsing.preprocessing.strip_non_alphanum(text)\n",
    "    \n",
    "    # remove html tags\n",
    "    text = gensim.parsing.preprocessing.strip_tags(text)\n",
    "  \n",
    "    # remove punctuation\n",
    "    text = gensim.parsing.preprocessing.strip_punctuation(text)\n",
    "  \n",
    "    # remove numerics\n",
    "    text = gensim.parsing.preprocessing.strip_numeric(text)\n",
    "  \n",
    "    # remove consecutive whitespace characters and convert tabs to spaces\n",
    "    text = gensim.parsing.preprocessing.strip_multiple_whitespaces(text)\n",
    "  \n",
    "    #text = gensim.parsing.preprocessing.strip_short(text, minsize=3)\n",
    "  \n",
    "    #remove stop-words\n",
    "    text = gensim.parsing.preprocessing.remove_stopwords(text)\n",
    "    \n",
    "    # make stems\n",
    "    text = gensim.parsing.preprocessing.stem_text(text)\n",
    "    \n",
    "    return text\n",
    "    "
   ]
  },
  {
   "cell_type": "code",
   "execution_count": 7,
   "id": "706896dc",
   "metadata": {},
   "outputs": [],
   "source": [
    "# clean training data\n",
    "for index, row in traindf.iterrows():\n",
    "    text = row['Summary']\n",
    "    text = preprocess(text)\n",
    "    traindf.at[index, 'Summary'] = text"
   ]
  },
  {
   "cell_type": "code",
   "execution_count": 8,
   "id": "eef6416f",
   "metadata": {},
   "outputs": [],
   "source": [
    "# clean testing data\n",
    "for index, row in testdf.iterrows():\n",
    "    text = row['Summary']\n",
    "    text = preprocess(text)\n",
    "    testdf.at[index, 'Summary'] = text    "
   ]
  },
  {
   "cell_type": "code",
   "execution_count": 9,
   "id": "d37b1fa4",
   "metadata": {},
   "outputs": [],
   "source": [
    "#convert training data labels to numbers\n",
    "traindf['labels'].replace('bug', 0,inplace=True)\n",
    "traindf['labels'].replace('feature', 1,inplace=True)\n",
    "traindf['labels'].replace('question', 2,inplace=True)\n",
    "traindf['labels'].replace('documentation', 3,inplace=True)"
   ]
  },
  {
   "cell_type": "code",
   "execution_count": 10,
   "id": "b3506620",
   "metadata": {},
   "outputs": [],
   "source": [
    "#convert testing data lables to numbers\n",
    "testdf['labels'].replace('bug', 0,inplace=True)\n",
    "testdf['labels'].replace('feature', 1,inplace=True)\n",
    "testdf['labels'].replace('question', 2,inplace=True)\n",
    "testdf['labels'].replace('documentation', 3,inplace=True)"
   ]
  },
  {
   "cell_type": "code",
   "execution_count": 11,
   "id": "3e6d7c90",
   "metadata": {},
   "outputs": [
    {
     "data": {
      "text/html": [
       "<div>\n",
       "<style scoped>\n",
       "    .dataframe tbody tr th:only-of-type {\n",
       "        vertical-align: middle;\n",
       "    }\n",
       "\n",
       "    .dataframe tbody tr th {\n",
       "        vertical-align: top;\n",
       "    }\n",
       "\n",
       "    .dataframe thead th {\n",
       "        text-align: right;\n",
       "    }\n",
       "</style>\n",
       "<table border=\"1\" class=\"dataframe\">\n",
       "  <thead>\n",
       "    <tr style=\"text-align: right;\">\n",
       "      <th></th>\n",
       "      <th>Summary</th>\n",
       "      <th>labels</th>\n",
       "    </tr>\n",
       "  </thead>\n",
       "  <tbody>\n",
       "    <tr>\n",
       "      <th>0</th>\n",
       "      <td>set log handler bpo http bug python org issu n...</td>\n",
       "      <td>3</td>\n",
       "    </tr>\n",
       "  </tbody>\n",
       "</table>\n",
       "</div>"
      ],
      "text/plain": [
       "                                             Summary  labels\n",
       "0  set log handler bpo http bug python org issu n...       3"
      ]
     },
     "execution_count": 11,
     "metadata": {},
     "output_type": "execute_result"
    }
   ],
   "source": [
    "# select only summary and labels\n",
    "traindf = traindf[['Summary','labels']]\n",
    "#pd.options.display.max_colwidth = None\n",
    "traindf.head(1)"
   ]
  },
  {
   "cell_type": "code",
   "execution_count": 12,
   "id": "34fd429c",
   "metadata": {},
   "outputs": [
    {
     "data": {
      "text/html": [
       "<div>\n",
       "<style scoped>\n",
       "    .dataframe tbody tr th:only-of-type {\n",
       "        vertical-align: middle;\n",
       "    }\n",
       "\n",
       "    .dataframe tbody tr th {\n",
       "        vertical-align: top;\n",
       "    }\n",
       "\n",
       "    .dataframe thead th {\n",
       "        text-align: right;\n",
       "    }\n",
       "</style>\n",
       "<table border=\"1\" class=\"dataframe\">\n",
       "  <thead>\n",
       "    <tr style=\"text-align: right;\">\n",
       "      <th></th>\n",
       "      <th>Summary</th>\n",
       "      <th>labels</th>\n",
       "    </tr>\n",
       "  </thead>\n",
       "  <tbody>\n",
       "    <tr>\n",
       "      <th>0</th>\n",
       "      <td>possibl mislead express virtual environ tutori...</td>\n",
       "      <td>3</td>\n",
       "    </tr>\n",
       "  </tbody>\n",
       "</table>\n",
       "</div>"
      ],
      "text/plain": [
       "                                             Summary  labels\n",
       "0  possibl mislead express virtual environ tutori...       3"
      ]
     },
     "execution_count": 12,
     "metadata": {},
     "output_type": "execute_result"
    }
   ],
   "source": [
    "# select only summary and labels\n",
    "testdf = testdf[['Summary','labels']]\n",
    "testdf.head(1)"
   ]
  },
  {
   "cell_type": "code",
   "execution_count": 13,
   "id": "e53bf95f",
   "metadata": {},
   "outputs": [],
   "source": [
    "#get actual labels of training data\n",
    "y_train = traindf['labels'].values\n",
    "\n",
    "# get summary of training data\n",
    "traindf = traindf['Summary']\n",
    "\n",
    "#get actual labels of testing data\n",
    "y_test = testdf['labels'].values\n",
    "\n",
    "# get summary of testing data\n",
    "testdf =  testdf['Summary']\n",
    "\n",
    "# define TfidfVectorizer\n",
    "vectorizer = TfidfVectorizer(sublinear_tf=True, norm='l2', encoding='latin-1', ngram_range=(1, 2), stop_words='english')\n",
    "\n",
    "# Extracting features from the training data using a sparse vectorizer\n",
    "X_train = vectorizer.fit_transform(traindf)\n",
    "\n",
    "# Extracting features from the test data using the same vectorizer\n",
    "X_test  = vectorizer.transform(testdf)"
   ]
  },
  {
   "cell_type": "code",
   "execution_count": null,
   "id": "d1434e53",
   "metadata": {},
   "outputs": [],
   "source": []
  },
  {
   "cell_type": "code",
   "execution_count": 14,
   "id": "ad909666",
   "metadata": {},
   "outputs": [
    {
     "name": "stdout",
     "output_type": "stream",
     "text": [
      "Training time: 152.24521780014038\n"
     ]
    }
   ],
   "source": [
    "# timer to check training time\n",
    "start_time = time.time()\n",
    "\n",
    "#define classifier\n",
    "classifier = SGDClassifier(loss='hinge', penalty='l2',alpha=0.000001, random_state=42,max_iter=20, tol=0.001)\n",
    "\n",
    "#classifier = RidgeClassifier(tol=1e-2, solver=\"sparse_cg\")\n",
    "\n",
    "#fit classifier on training data\n",
    "classifier.fit(X_train, y_train)\n",
    "\n",
    "# print training time\n",
    "print(\"Training time:\", time.time() - start_time)"
   ]
  },
  {
   "cell_type": "code",
   "execution_count": null,
   "id": "858181b4",
   "metadata": {},
   "outputs": [],
   "source": []
  },
  {
   "cell_type": "code",
   "execution_count": 15,
   "id": "f6bc6acb",
   "metadata": {},
   "outputs": [
    {
     "name": "stdout",
     "output_type": "stream",
     "text": [
      "Testing time: 0.8996913433074951\n"
     ]
    }
   ],
   "source": [
    "# timer to check training time\n",
    "start_time = time.time()\n",
    "\n",
    "# prediction on test data for evaluation\n",
    "predicted = classifier.predict(X_test)\n",
    "\n",
    "# print testing time\n",
    "print(\"Testing time:\", time.time() - start_time)"
   ]
  },
  {
   "cell_type": "code",
   "execution_count": 16,
   "id": "39af5c27",
   "metadata": {},
   "outputs": [
    {
     "name": "stdout",
     "output_type": "stream",
     "text": [
      "              precision    recall  f1-score   support\n",
      "\n",
      "           0       0.87      0.92      0.90     74691\n",
      "           1       0.84      0.86      0.85     52466\n",
      "           2       0.77      0.38      0.51      8479\n",
      "           3       0.78      0.57      0.66      6218\n",
      "\n",
      "    accuracy                           0.85    141854\n",
      "   macro avg       0.82      0.68      0.73    141854\n",
      "weighted avg       0.85      0.85      0.85    141854\n",
      "\n"
     ]
    }
   ],
   "source": [
    "#print classification report\n",
    "print(classification_report(y_test, predicted))"
   ]
  },
  {
   "cell_type": "code",
   "execution_count": 17,
   "id": "5870140c",
   "metadata": {},
   "outputs": [
    {
     "name": "stdout",
     "output_type": "stream",
     "text": [
      "=*= micro averages =*=\n",
      "precision:\t0.8523\n",
      "recall:\t\t0.8523\n",
      "F1 score:\t0.8523\n"
     ]
    }
   ],
   "source": [
    "# calculate micro precision score\n",
    "P = sklearn.metrics.precision_score(y_test, predicted, average='micro')\n",
    "\n",
    "# calculate micro recall score\n",
    "R = sklearn.metrics.recall_score(y_test, predicted, average='micro')\n",
    "\n",
    "# calculate micro f1 score\n",
    "F1 = sklearn.metrics.f1_score(y_test, predicted, average='micro')\n",
    "\n",
    "#print micro scores\n",
    "print(\"=*= micro averages =*=\")\n",
    "print(f\"precision:\\t{P:.4f}\")\n",
    "print(f\"recall:\\t\\t{R:.4f}\")\n",
    "print(f\"F1 score:\\t{F1:.4f}\")"
   ]
  },
  {
   "cell_type": "code",
   "execution_count": 21,
   "id": "73dfdc3f",
   "metadata": {},
   "outputs": [],
   "source": [
    "#print(confusion_matrix(y_test, predicted))"
   ]
  },
  {
   "cell_type": "code",
   "execution_count": null,
   "id": "267ba65a",
   "metadata": {},
   "outputs": [],
   "source": []
  }
 ],
 "metadata": {
  "kernelspec": {
   "display_name": "Python 3",
   "language": "python",
   "name": "python3"
  },
  "language_info": {
   "codemirror_mode": {
    "name": "ipython",
    "version": 3
   },
   "file_extension": ".py",
   "mimetype": "text/x-python",
   "name": "python",
   "nbconvert_exporter": "python",
   "pygments_lexer": "ipython3",
   "version": "3.9.5"
  }
 },
 "nbformat": 4,
 "nbformat_minor": 5
}

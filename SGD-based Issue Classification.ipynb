{
 "cells": [
  {
   "cell_type": "code",
   "execution_count": 1,
   "id": "c1496067",
   "metadata": {},
   "outputs": [
    {
     "name": "stderr",
     "output_type": "stream",
     "text": [
      "c:\\users\\miq\\appdata\\local\\programs\\python\\python39\\lib\\site-packages\\gensim\\similarities\\__init__.py:15: UserWarning: The gensim.similarities.levenshtein submodule is disabled, because the optional Levenshtein package <https://pypi.org/project/python-Levenshtein/> is unavailable. Install Levenhstein (e.g. `pip install python-Levenshtein`) to suppress this warning.\n",
      "  warnings.warn(msg)\n"
     ]
    }
   ],
   "source": [
    "#Imports required packages\n",
    "import pandas as pd\n",
    "import numpy as np\n",
    "import sklearn\n",
    "from sklearn.feature_extraction.text import TfidfVectorizer\n",
    "from sklearn.feature_extraction.text import CountVectorizer\n",
    "from sklearn.feature_extraction.text import TfidfTransformer\n",
    "from sklearn.metrics import classification_report\n",
    "from sklearn.metrics import accuracy_score\n",
    "from sklearn.compose import ColumnTransformer\n",
    "from sklearn.pipeline import Pipeline\n",
    "from sklearn.metrics import classification_report, confusion_matrix\n",
    "import gensim\n",
    "from sklearn.linear_model import LogisticRegression\n",
    "from sklearn.metrics import precision_score, recall_score,f1_score\n",
    "from sklearn.metrics import roc_curve,auc,roc_auc_score\n",
    "import time\n",
    "from sklearn.model_selection import GridSearchCV\n",
    "from sklearn.linear_model import SGDClassifier"
   ]
  },
  {
   "cell_type": "code",
   "execution_count": 2,
   "id": "8a3e8d3e",
   "metadata": {},
   "outputs": [],
   "source": [
    "# load training data\n",
    "traindf = pd.read_csv('nlbse23-issue-classification-train.csv')\n",
    "\n",
    "# load testing data\n",
    "testdf = pd.read_csv('nlbse23-issue-classification-test.csv') "
   ]
  },
  {
   "cell_type": "code",
   "execution_count": 3,
   "id": "b3a56003",
   "metadata": {},
   "outputs": [
    {
     "data": {
      "text/plain": [
       "((1275881, 5), (142320, 5))"
      ]
     },
     "execution_count": 3,
     "metadata": {},
     "output_type": "execute_result"
    }
   ],
   "source": [
    "traindf.shape,testdf.shape"
   ]
  },
  {
   "cell_type": "code",
   "execution_count": 4,
   "id": "44491ee1",
   "metadata": {},
   "outputs": [],
   "source": [
    "#merge title and body of training data\n",
    "traindf['Summary'] = traindf[\"title\"]+\" \"+traindf[\"body\"]\n",
    "# removing null\n",
    "traindf = traindf[pd.notnull(traindf['Summary'])]\n",
    "\n",
    "#merge title and body of testing data\n",
    "testdf['Summary'] = testdf[\"title\"]+\" \"+testdf[\"body\"]\n",
    "\n",
    "# removing null\n",
    "testdf = testdf[pd.notnull(testdf['Summary'])]"
   ]
  },
  {
   "cell_type": "code",
   "execution_count": null,
   "id": "0cccf02a",
   "metadata": {},
   "outputs": [],
   "source": []
  },
  {
   "cell_type": "code",
   "execution_count": 5,
   "id": "9f8078b2",
   "metadata": {},
   "outputs": [],
   "source": [
    "def preprocess(text):  \n",
    "    text = str(text)\n",
    "    \n",
    "    # lowercase\n",
    "    text = text.lower()\n",
    "    \n",
    "    text = gensim.parsing.preprocessing.strip_non_alphanum(text)\n",
    "    \n",
    "    # remove html tags\n",
    "    text = gensim.parsing.preprocessing.strip_tags(text)\n",
    "  \n",
    "    # remove punctuation\n",
    "    text = gensim.parsing.preprocessing.strip_punctuation(text)\n",
    "  \n",
    "    # remove numerics\n",
    "    text = gensim.parsing.preprocessing.strip_numeric(text)\n",
    "  \n",
    "    # remove consecutive whitespace characters and convert tabs to spaces\n",
    "    text = gensim.parsing.preprocessing.strip_multiple_whitespaces(text)\n",
    "  \n",
    "    #text = gensim.parsing.preprocessing.strip_short(text, minsize=3)\n",
    "  \n",
    "    text = gensim.parsing.preprocessing.remove_stopwords(text)\n",
    "    # make stems\n",
    "    text = gensim.parsing.preprocessing.stem_text(text)\n",
    "    \n",
    "    return text\n",
    "    "
   ]
  },
  {
   "cell_type": "code",
   "execution_count": 6,
   "id": "706896dc",
   "metadata": {},
   "outputs": [],
   "source": [
    "# clean training data\n",
    "for index, row in traindf.iterrows():\n",
    "    text = row['Summary']\n",
    "    text = preprocess(text)\n",
    "    traindf.at[index, 'Summary'] = text"
   ]
  },
  {
   "cell_type": "code",
   "execution_count": 7,
   "id": "eef6416f",
   "metadata": {},
   "outputs": [],
   "source": [
    "# clean testing data\n",
    "for index, row in testdf.iterrows():\n",
    "    text = row['Summary']\n",
    "    text = preprocess(text)\n",
    "    testdf.at[index, 'Summary'] = text    "
   ]
  },
  {
   "cell_type": "code",
   "execution_count": 8,
   "id": "d37b1fa4",
   "metadata": {},
   "outputs": [],
   "source": [
    "#convert training data labels to numbers\n",
    "traindf['labels'].replace('bug', 0,inplace=True)\n",
    "traindf['labels'].replace('feature', 1,inplace=True)\n",
    "traindf['labels'].replace('question', 2,inplace=True)\n",
    "traindf['labels'].replace('documentation', 3,inplace=True)"
   ]
  },
  {
   "cell_type": "code",
   "execution_count": 9,
   "id": "b3506620",
   "metadata": {},
   "outputs": [],
   "source": [
    "#convert testing data lables to numbers\n",
    "testdf['labels'].replace('bug', 0,inplace=True)\n",
    "testdf['labels'].replace('feature', 1,inplace=True)\n",
    "testdf['labels'].replace('question', 2,inplace=True)\n",
    "testdf['labels'].replace('documentation', 3,inplace=True)"
   ]
  },
  {
   "cell_type": "code",
   "execution_count": null,
   "id": "bc8eaef5",
   "metadata": {},
   "outputs": [],
   "source": []
  },
  {
   "cell_type": "code",
   "execution_count": 10,
   "id": "3e6d7c90",
   "metadata": {},
   "outputs": [
    {
     "data": {
      "text/html": [
       "<div>\n",
       "<style scoped>\n",
       "    .dataframe tbody tr th:only-of-type {\n",
       "        vertical-align: middle;\n",
       "    }\n",
       "\n",
       "    .dataframe tbody tr th {\n",
       "        vertical-align: top;\n",
       "    }\n",
       "\n",
       "    .dataframe thead th {\n",
       "        text-align: right;\n",
       "    }\n",
       "</style>\n",
       "<table border=\"1\" class=\"dataframe\">\n",
       "  <thead>\n",
       "    <tr style=\"text-align: right;\">\n",
       "      <th></th>\n",
       "      <th>Summary</th>\n",
       "      <th>labels</th>\n",
       "    </tr>\n",
       "  </thead>\n",
       "  <tbody>\n",
       "    <tr>\n",
       "      <th>0</th>\n",
       "      <td>set log handler bpo http bug python org issu n...</td>\n",
       "      <td>3</td>\n",
       "    </tr>\n",
       "  </tbody>\n",
       "</table>\n",
       "</div>"
      ],
      "text/plain": [
       "                                             Summary  labels\n",
       "0  set log handler bpo http bug python org issu n...       3"
      ]
     },
     "execution_count": 10,
     "metadata": {},
     "output_type": "execute_result"
    }
   ],
   "source": [
    "traindf = traindf[['Summary','labels']]\n",
    "#pd.options.display.max_colwidth = None\n",
    "traindf.head(1)"
   ]
  },
  {
   "cell_type": "code",
   "execution_count": 11,
   "id": "34fd429c",
   "metadata": {},
   "outputs": [
    {
     "data": {
      "text/html": [
       "<div>\n",
       "<style scoped>\n",
       "    .dataframe tbody tr th:only-of-type {\n",
       "        vertical-align: middle;\n",
       "    }\n",
       "\n",
       "    .dataframe tbody tr th {\n",
       "        vertical-align: top;\n",
       "    }\n",
       "\n",
       "    .dataframe thead th {\n",
       "        text-align: right;\n",
       "    }\n",
       "</style>\n",
       "<table border=\"1\" class=\"dataframe\">\n",
       "  <thead>\n",
       "    <tr style=\"text-align: right;\">\n",
       "      <th></th>\n",
       "      <th>Summary</th>\n",
       "      <th>labels</th>\n",
       "    </tr>\n",
       "  </thead>\n",
       "  <tbody>\n",
       "    <tr>\n",
       "      <th>0</th>\n",
       "      <td>possibl mislead express virtual environ tutori...</td>\n",
       "      <td>3</td>\n",
       "    </tr>\n",
       "  </tbody>\n",
       "</table>\n",
       "</div>"
      ],
      "text/plain": [
       "                                             Summary  labels\n",
       "0  possibl mislead express virtual environ tutori...       3"
      ]
     },
     "execution_count": 11,
     "metadata": {},
     "output_type": "execute_result"
    }
   ],
   "source": [
    "testdf = testdf[['Summary','labels']]\n",
    "testdf.head(1)"
   ]
  },
  {
   "cell_type": "code",
   "execution_count": null,
   "id": "8aa3720a",
   "metadata": {},
   "outputs": [],
   "source": []
  },
  {
   "cell_type": "code",
   "execution_count": 12,
   "id": "e53bf95f",
   "metadata": {},
   "outputs": [],
   "source": [
    "y_train = traindf['labels'].values\n",
    "traindf = traindf['Summary']\n",
    "\n",
    "y_test = testdf['labels'].values\n",
    "testdf =  testdf['Summary']\n",
    "\n",
    "# define TfidfVectorizer\n",
    "vectorizer = TfidfVectorizer(sublinear_tf=True, norm='l2', encoding='latin-1', ngram_range=(1, 2), stop_words='english')\n",
    "\n",
    "# Extracting features from the training data using a sparse vectorizer\n",
    "X_train = vectorizer.fit_transform(traindf)\n",
    "\n",
    "# Extracting features from the test data using the same vectorizer\n",
    "X_test  = vectorizer.transform(testdf)"
   ]
  },
  {
   "cell_type": "code",
   "execution_count": 13,
   "id": "d1434e53",
   "metadata": {},
   "outputs": [
    {
     "data": {
      "text/plain": [
       "0    set log handler bpo http bug python org issu n...\n",
       "Name: Summary, dtype: object"
      ]
     },
     "execution_count": 13,
     "metadata": {},
     "output_type": "execute_result"
    }
   ],
   "source": [
    "traindf.head(1)"
   ]
  },
  {
   "cell_type": "code",
   "execution_count": 14,
   "id": "ad909666",
   "metadata": {},
   "outputs": [
    {
     "name": "stdout",
     "output_type": "stream",
     "text": [
      "Training time: 122.51208090782166\n"
     ]
    }
   ],
   "source": [
    "# timer\n",
    "start_time = time.time()\n",
    "\n",
    "#classifier = LogisticRegression(max_iter=1000)\n",
    "#classifier = SGDClassifier(loss='hinge', penalty='l2',alpha=1e-3, random_state=42,max_iter=5, tol=None)\n",
    "\n",
    "classifier = SGDClassifier(loss='hinge', penalty='l2',alpha=0.000001, random_state=42,max_iter=20, tol=0.001)\n",
    "\n",
    "#classifier = SGDClassifier(loss='hinge', penalty='l2',alpha=0.000001, random_state=42,max_iter=5, tol=None)\n",
    "\n",
    "#classifier = RidgeClassifier(tol=1e-2, solver=\"sparse_cg\")\n",
    "#alpha=0.000001 log_loss\n",
    "\n",
    "#classifier = SGDClassifier(random_state=30)\n",
    "\n",
    "classifier.fit(X_train, y_train)\n",
    "\n",
    "print(\"Training time:\", time.time() - start_time)"
   ]
  },
  {
   "cell_type": "code",
   "execution_count": null,
   "id": "858181b4",
   "metadata": {},
   "outputs": [],
   "source": []
  },
  {
   "cell_type": "code",
   "execution_count": 15,
   "id": "f6bc6acb",
   "metadata": {},
   "outputs": [
    {
     "name": "stdout",
     "output_type": "stream",
     "text": [
      "Testing time: 1.3617045879364014\n"
     ]
    }
   ],
   "source": [
    "start_time = time.time()\n",
    "predicted = classifier.predict(X_test)\n",
    "score = classifier.score(X_test, y_test)                  \n",
    "print(\"Testing time:\", time.time() - start_time)"
   ]
  },
  {
   "cell_type": "code",
   "execution_count": 16,
   "id": "39af5c27",
   "metadata": {},
   "outputs": [
    {
     "name": "stdout",
     "output_type": "stream",
     "text": [
      "              precision    recall  f1-score   support\n",
      "\n",
      "           0       0.87      0.92      0.90     74691\n",
      "           1       0.84      0.86      0.85     52466\n",
      "           2       0.77      0.38      0.51      8479\n",
      "           3       0.78      0.57      0.66      6218\n",
      "\n",
      "    accuracy                           0.85    141854\n",
      "   macro avg       0.82      0.68      0.73    141854\n",
      "weighted avg       0.85      0.85      0.85    141854\n",
      "\n"
     ]
    }
   ],
   "source": [
    "predicted = classifier.predict(X_test)\n",
    "score = classifier.score(X_test, y_test)\n",
    "\n",
    "print(classification_report(y_test, predicted))"
   ]
  },
  {
   "cell_type": "code",
   "execution_count": 17,
   "id": "5870140c",
   "metadata": {},
   "outputs": [
    {
     "name": "stdout",
     "output_type": "stream",
     "text": [
      "=*= micro averages =*=\n",
      "precision:\t0.8523\n",
      "recall:\t\t0.8523\n",
      "F1 score:\t0.8523\n"
     ]
    }
   ],
   "source": [
    "P = sklearn.metrics.precision_score(y_test, predicted, average='micro')\n",
    "R = sklearn.metrics.recall_score(y_test, predicted, average='micro')\n",
    "F1 = sklearn.metrics.f1_score(y_test, predicted, average='micro')\n",
    "\n",
    "print(\"=*= micro averages =*=\")\n",
    "print(f\"precision:\\t{P:.4f}\")\n",
    "print(f\"recall:\\t\\t{R:.4f}\")\n",
    "print(f\"F1 score:\\t{F1:.4f}\")"
   ]
  },
  {
   "cell_type": "code",
   "execution_count": null,
   "id": "73dfdc3f",
   "metadata": {},
   "outputs": [],
   "source": [
    "#print(confusion_matrix(y_test, predicted))"
   ]
  },
  {
   "cell_type": "code",
   "execution_count": null,
   "id": "267ba65a",
   "metadata": {},
   "outputs": [],
   "source": []
  },
  {
   "cell_type": "code",
   "execution_count": null,
   "id": "0b6c074e",
   "metadata": {},
   "outputs": [],
   "source": [
    "#classifier = RidgeClassifier(tol=1e-2, solver=\"sparse_cg\")\n",
    "#=*= micro averages =*=\n",
    "#precision:\t0.8486\n",
    "#recall:\t\t0.8486\n",
    "#F1 score:\t0.8486"
   ]
  },
  {
   "cell_type": "code",
   "execution_count": null,
   "id": "2fcfbc86",
   "metadata": {},
   "outputs": [],
   "source": []
  },
  {
   "cell_type": "code",
   "execution_count": null,
   "id": "9008135a",
   "metadata": {},
   "outputs": [],
   "source": []
  },
  {
   "cell_type": "code",
   "execution_count": null,
   "id": "177dd1f1",
   "metadata": {},
   "outputs": [],
   "source": [
    "#Tunning SGD\n",
    "# Define the pipeline with TfidfVectorizer and SGDClassifier\n",
    "pipeline = Pipeline([\n",
    "    ('tfidf', TfidfVectorizer()),\n",
    "    ('clf', SGDClassifier())\n",
    "])\n",
    "\n",
    "# Define the hyperparameter grid to search\n",
    "param_grid = {\n",
    "    'clf__loss': ['hinge', 'log', 'modified_huber', 'squared_hinge', 'perceptron'],\n",
    "    'clf__penalty': ['l1', 'l2', 'elasticnet'],\n",
    "    'clf__alpha': [0.0001, 0.001, 0.01, 0.1],\n",
    "    'clf__max_iter': [5, 10, 50, 100, 1000]\n",
    "}\n",
    "\n",
    "# Create the grid search object\n",
    "grid_search = GridSearchCV(pipeline, param_grid, cv=5, scoring='f1_macro')\n",
    "\n",
    "# Fit the grid search to the data\n",
    "grid_search.fit(X_train, y_train)\n",
    "\n",
    "# Print the best parameters and the best score\n",
    "print(\"Best parameters: \", grid_search.best_params_)\n",
    "print(\"Best F1 score: \", grid_search.best_score_)"
   ]
  },
  {
   "cell_type": "code",
   "execution_count": null,
   "id": "6c026f31",
   "metadata": {},
   "outputs": [],
   "source": [
    "# clean training data\n",
    "for index, row in df.iterrows():\n",
    "    text = row['Summary']\n",
    "    \n",
    "    text = str(text)\n",
    "    \n",
    "    # lowercase\n",
    "    text = text.lower()\n",
    "    \n",
    "    text = gensim.parsing.preprocessing.strip_non_alphanum(text)\n",
    "    \n",
    "    # remove html tags\n",
    "    text = gensim.parsing.preprocessing.strip_tags(text)\n",
    "  \n",
    "    # remove punctuation\n",
    "    text = gensim.parsing.preprocessing.strip_punctuation(text)\n",
    "  \n",
    "    # remove numerics\n",
    "    text = gensim.parsing.preprocessing.strip_numeric(text)\n",
    "  \n",
    "    # remove consecutive whitespace characters and convert tabs to spaces\n",
    "    text = gensim.parsing.preprocessing.strip_multiple_whitespaces(text)\n",
    "  \n",
    "    #text = gensim.parsing.preprocessing.strip_short(text, minsize=3)\n",
    "  \n",
    "    text = gensim.parsing.preprocessing.remove_stopwords(text)\n",
    "  \n",
    "    text = gensim.parsing.preprocessing.stem_text(text)\n",
    "\n",
    "    df.at[index, 'Summary'] = tex"
   ]
  },
  {
   "cell_type": "code",
   "execution_count": null,
   "id": "30631e63",
   "metadata": {},
   "outputs": [],
   "source": []
  }
 ],
 "metadata": {
  "kernelspec": {
   "display_name": "Python 3",
   "language": "python",
   "name": "python3"
  },
  "language_info": {
   "codemirror_mode": {
    "name": "ipython",
    "version": 3
   },
   "file_extension": ".py",
   "mimetype": "text/x-python",
   "name": "python",
   "nbconvert_exporter": "python",
   "pygments_lexer": "ipython3",
   "version": "3.9.5"
  }
 },
 "nbformat": 4,
 "nbformat_minor": 5
}
